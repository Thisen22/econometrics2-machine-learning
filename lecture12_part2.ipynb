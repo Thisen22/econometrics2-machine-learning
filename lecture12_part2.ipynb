{
  "nbformat": 4,
  "nbformat_minor": 0,
  "metadata": {
    "colab": {
      "provenance": [],
      "include_colab_link": true
    },
    "kernelspec": {
      "name": "ir",
      "display_name": "R"
    },
    "language_info": {
      "name": "R"
    }
  },
  "cells": [
    {
      "cell_type": "markdown",
      "metadata": {
        "id": "view-in-github",
        "colab_type": "text"
      },
      "source": [
        "<a href=\"https://colab.research.google.com/github/Thisen22/econometrics2-machine-learning/blob/main/lecture12_part2.ipynb\" target=\"_parent\"><img src=\"https://colab.research.google.com/assets/colab-badge.svg\" alt=\"Open In Colab\"/></a>"
      ]
    },
    {
      "cell_type": "markdown",
      "source": [
        "# Decision Tree Regression\n",
        "\n",
        "## 1. Introduction\n",
        "\n",
        "A **Decision Tree** is a supervised machine learning algorithm used for both regression and classification tasks. In **regression**, the target variable is numerical, and the goal is to predict its value based on a set of independent variables (also known as predictors or features). Decision Trees build models by recursively splitting the data into smaller subsets, aiming to reduce the variability of the target variable in each split.\n",
        "\n",
        "In this tutorial, we'll go through the steps of building a Decision Tree for regression using numerical dependent and independent variables.\n",
        "\n",
        "#### Hands-On Project: **Energy Consumption**\n",
        "\n",
        "Consider the following dataset where we want to predict **Energy Consumption** (kWh) based on **Temperature** and **Wind Speed**.\n",
        "\n",
        "| Day | Temperature (°C) | Wind Speed (km/h) | Energy Consumption (kWh) |\n",
        "|-----|------------------|-------------------|--------------------------|\n",
        "| 1   | 15               | 12                | 400                      |\n",
        "| 2   | 22               | 8                 | 350                      |\n",
        "| 3   | 10               | 15                | 450                      |\n",
        "| 4   | 30               | 5                 | 300                      |\n",
        "| 5   | 25               | 10                | 320                      |\n",
        "| 6   | 18               | 20                | 370                      |\n",
        "| 7   | 35               | 3                 | 280                      |\n",
        "| 8   | 12               | 25                | 500                      |\n",
        "| 9   | 28               | 5                 | 310                      |\n",
        "| 10  | 20               | 18                | 360                      |\n",
        "\n"
      ],
      "metadata": {
        "id": "vjG0PWkUmJaq"
      }
    },
    {
      "cell_type": "markdown",
      "source": [
        "### **Exercise 1: What type of machine learning problem does energy consumption data?**\n"
      ],
      "metadata": {
        "id": "LHMiNPevr5pD"
      }
    },
    {
      "cell_type": "markdown",
      "source": [
        "![](https://raw.githubusercontent.com/HamidBekamiri/Econometrics-II/refs/heads/main/images/02_SML_DT_exercise1.png)"
      ],
      "metadata": {
        "id": "CHHVvdL8q5pG"
      }
    },
    {
      "cell_type": "code",
      "source": [
        "# Install the necessary packages if they are not already installed\n",
        "if(!require(rpart)){\n",
        "  install.packages(\"rpart\")\n",
        "}\n",
        "if(!require(rpart.plot)){\n",
        "  install.packages(\"rpart.plot\")\n",
        "}"
      ],
      "metadata": {
        "colab": {
          "base_uri": "https://localhost:8080/"
        },
        "id": "BhsUvzuDsbPQ",
        "outputId": "9a146098-2ec4-4285-e1d0-c99e0494b06a"
      },
      "execution_count": 1,
      "outputs": [
        {
          "output_type": "stream",
          "name": "stderr",
          "text": [
            "Loading required package: rpart\n",
            "\n",
            "Loading required package: rpart.plot\n",
            "\n",
            "Warning message in library(package, lib.loc = lib.loc, character.only = TRUE, logical.return = TRUE, :\n",
            "“there is no package called ‘rpart.plot’”\n",
            "Installing package into ‘/usr/local/lib/R/site-library’\n",
            "(as ‘lib’ is unspecified)\n",
            "\n"
          ]
        }
      ]
    },
    {
      "cell_type": "code",
      "source": [
        "# Load necessary libraries\n",
        "library(rpart)\n",
        "library(rpart.plot)\n",
        "\n",
        "# Define the data\n",
        "data <- data.frame(\n",
        "  Day = 1:10,\n",
        "  Temperature = c(15, 22, 10, 30, 25, 18, 35, 12, 28, 20),\n",
        "  WindSpeed = c(12, 8, 15, 5, 10, 20, 3, 25, 5, 18),\n",
        "  EnergyConsumption = c(400, 350, 450, 300, 320, 370, 280, 500, 310, 360)\n",
        ")\n",
        "\n",
        "# Define control parameters for the tree to better handle the detailed splits\n",
        "control_params <- rpart.control(minsplit = 2,          # Minimum number of observations to attempt a split\n",
        "                                minbucket = 1,         # Minimum number of observations in any terminal <leaf> node\n",
        "                                maxdepth = 2,          # Maximum depth of any node of the final tree, increased for more detail\n",
        "                                cp = 0.001)            # Lower complexity parameter to allow more detailed splits\n",
        "\n",
        "# Building the decision tree model\n",
        "model <- rpart(EnergyConsumption ~ Temperature + WindSpeed, data = data, method = \"anova\", control = control_params)\n",
        "\n",
        "# Plotting the decision tree\n",
        "rpart.plot(model, type = 4, extra = 101, under = TRUE, cex = 0.6,\n",
        "           main = \"Decision Tree for Energy Consumption\",\n",
        "           fallen.leaves = TRUE,          # Position the leaves at the bottom of the graph\n",
        "           branch = 1,                    # Shape of branches (1 = right-angle, 2 = slanted)\n",
        "           box.palette = \"RdBu\",          # Color palette\n",
        "           shadow.col = \"gray\",           # Shadow color for boxes\n",
        "           border.col = \"black\")          # Border color for boxes\n",
        "\n",
        "# Print the detailed summary of the tree\n",
        "print(summary(model))"
      ],
      "metadata": {
        "colab": {
          "base_uri": "https://localhost:8080/",
          "height": 1000
        },
        "id": "MaewBHUnsLSc",
        "outputId": "c27244ab-e343-485d-e707-93c3e46e868e"
      },
      "execution_count": 3,
      "outputs": [
        {
          "output_type": "stream",
          "name": "stdout",
          "text": [
            "Call:\n",
            "rpart(formula = EnergyConsumption ~ Temperature + WindSpeed, \n",
            "    data = data, method = \"anova\", control = control_params)\n",
            "  n= 10 \n",
            "\n",
            "          CP nsplit rel error    xerror      xstd\n",
            "1 0.72967640      0 1.0000000 1.2345679 0.4828357\n",
            "2 0.13047553      1 0.2703236 0.9560004 0.3408189\n",
            "3 0.08632597      2 0.1398481 0.3402522 0.1368509\n",
            "4 0.00100000      3 0.0535221 0.2878811 0.1368668\n",
            "\n",
            "Variable importance\n",
            "Temperature   WindSpeed \n",
            "         74          26 \n",
            "\n",
            "Node number 1: 10 observations,    complexity param=0.7296764\n",
            "  mean=364, MSE=4344 \n",
            "  left son=2 (7 obs) right son=3 (3 obs)\n",
            "  Primary splits:\n",
            "      Temperature < 16.5 to the right, improve=0.7296764, (0 missing)\n",
            "      WindSpeed   < 11   to the left,  improve=0.6224678, (0 missing)\n",
            "  Surrogate splits:\n",
            "      WindSpeed < 11   to the left,  agree=0.8, adj=0.333, (0 split)\n",
            "\n",
            "Node number 2: 7 observations,    complexity param=0.1304755\n",
            "  mean=327.1429, MSE=963.2653 \n",
            "  left son=4 (4 obs) right son=5 (3 obs)\n",
            "  Primary splits:\n",
            "      Temperature < 23.5 to the right, improve=0.8405720, (0 missing)\n",
            "      WindSpeed   < 6.5  to the left,  improve=0.7231638, (0 missing)\n",
            "  Surrogate splits:\n",
            "      WindSpeed < 6.5  to the left,  agree=0.857, adj=0.667, (0 split)\n",
            "\n",
            "Node number 3: 3 observations,    complexity param=0.08632597\n",
            "  mean=450, MSE=1666.667 \n",
            "  left son=6 (1 obs) right son=7 (2 obs)\n",
            "  Primary splits:\n",
            "      Temperature < 13.5 to the right, improve=0.75, (0 missing)\n",
            "      WindSpeed   < 13.5 to the left,  improve=0.75, (0 missing)\n",
            "\n",
            "Node number 4: 4 observations\n",
            "  mean=302.5, MSE=218.75 \n",
            "\n",
            "Node number 5: 3 observations\n",
            "  mean=360, MSE=66.66667 \n",
            "\n",
            "Node number 6: 1 observations\n",
            "  mean=400, MSE=0 \n",
            "\n",
            "Node number 7: 2 observations\n",
            "  mean=475, MSE=625 \n",
            "\n",
            "n= 10 \n",
            "\n",
            "node), split, n, deviance, yval\n",
            "      * denotes terminal node\n",
            "\n",
            "1) root 10 43440.000 364.0000  \n",
            "  2) Temperature>=16.5 7  6742.857 327.1429  \n",
            "    4) Temperature>=23.5 4   875.000 302.5000 *\n",
            "    5) Temperature< 23.5 3   200.000 360.0000 *\n",
            "  3) Temperature< 16.5 3  5000.000 450.0000  \n",
            "    6) Temperature>=13.5 1     0.000 400.0000 *\n",
            "    7) Temperature< 13.5 2  1250.000 475.0000 *\n"
          ]
        },
        {
          "output_type": "display_data",
          "data": {
            "text/plain": [
              "Plot with title “Decision Tree for Energy Consumption”"
            ],
            "image/png": "[encoded data removed]"
          },
          "metadata": {
            "image/png": {
              "width": 420,
              "height": 420
            }
          }
        }
      ]
    },
    {
      "cell_type": "markdown",
      "source": [
        "We can implement the ID3 Decision Tree (DT) algorithm based on these steps:\n",
        "\n",
        "1.  **Calculate the Initial Standard Deviation of the Target Variable:** Compute the standard deviation (SD) of the target variable before any splits.\n",
        "\n",
        "2.  **Split the Data Based on Each Possible Split and Calculate the Standard Deviation for Each Group:** For each split, divide the data into two groups and calculate the standard deviation for each group.\n",
        "\n",
        "3.  **Calculate the Standard Deviation Reduction (SDR) for Each Split:** Use the SDR formula to compute how much the split reduces the variability (SD) in the target variable.\n",
        "\n",
        "4.  **Choose the Split with the Highest SDR:** Compare the SDR for all splits and choose the one that maximizes the reduction in variability.\n",
        "\n",
        "5.  **Recursively Repeat Steps 1-4 for Each Branch:** For each branch created by a split, repeat the process by identifying new possible splits and calculating the SDR, continuing until the stopping conditions are met, such as minimal variance reduction, a minimum number of samples in a node, or reaching the maximum tree depth.\n",
        "\n",
        "------------------------------------------------------------------------"
      ],
      "metadata": {
        "id": "q65MLLjssg5c"
      }
    },
    {
      "cell_type": "markdown",
      "source": [
        "## 2. Key Concepts\n",
        "\n",
        "-   **Standard Deviation (SD):** Measures the spread or variability of a numerical variable. In the context of Decision Trees, we calculate the standard deviation of the target variable to understand how much variability there is in the data.\n",
        "\n",
        "    $$\n",
        "    SD(Y) = \\sqrt{\\frac{1}{n-1} \\sum_{i=1}^{n} (Y_i - \\bar{Y})^2}\n",
        "    $$Where:\n",
        "\n",
        "    -   $Y_i$ is each individual value of the target variable (e.g., Energy Consumption)\n",
        "\n",
        "    -   $\\bar{Y}$ is the mean of the target variable\n",
        "\n",
        "    -   $n$ is the number of instances\n",
        "\n",
        "-   **Standard Deviation Reduction (SDR):** A key metric used to determine the best attribute to split the data on. The goal is to reduce the standard deviation as much as possible by splitting the dataset into homogeneous groups. The split with the largest SDR is chosen.\n",
        "\n",
        "    $$\n",
        "    SDR = SD(Parent) - \\left( \\frac{n_1}{n} \\cdot SD(Group \\, 1) + \\frac{n_2}{n} \\cdot SD(Group \\, 2) \\right)\n",
        "    $$\n",
        "\n",
        "    Where:\n",
        "\n",
        "    -   $SD(Parent)$ is the standard deviation of the target variable before the split\n",
        "\n",
        "    -   $SD(Group \\, 1)$ and $SD(Group \\, 2)$ are the standard deviations of the two groups after splitting the data based on an attribute\n",
        "\n",
        "    -   $n_1$ and $n_2$ are the number of instances in each group\n",
        "\n",
        "    -   $n$ is the total number of instances"
      ],
      "metadata": {
        "id": "Jw7UFD5vwS1v"
      }
    },
    {
      "cell_type": "markdown",
      "source": [
        "## 3. Step-by-Step Guide to Build a Decision Tree\n",
        "\n",
        "### Step 1: **Calculate the Initial Standard Deviation of the Target Variable**\n",
        "\n",
        "The first step in constructing a Decision Tree is to compute the **standard deviation** of the target variable, which represents the overall variability before any splits are made.\n",
        "\n",
        "The formula for standard deviation (SD) is:\n",
        "\n",
        "$$\n",
        "SD(Y) = \\sqrt{\\frac{1}{n-1} \\sum_{i=1}^{n} (Y_i - \\bar{Y})^2}\n",
        "$$Where:\n",
        "\n",
        "-   $Y_i$ is each individual value of the target variable (e.g., Energy Consumption)\n",
        "\n",
        "-   $\\bar{Y}$ is the mean of the target variable\n",
        "\n",
        "-   $n$ is the number of instances\n",
        "\n",
        "### To calculate the standard deviation of **Energy Consumption**:\n",
        "\n",
        "1.  **Find the mean**:\n",
        "\n",
        "$$\n",
        "\\bar{Y} = \\frac{400 + 350 + 450 + 300 + 320 + 370 + 280 + 500 + 310 + 360}{10} = 364\n",
        "$$\n",
        "\n",
        "2.  **Apply the standard deviation formula**:\n",
        "\n",
        "$$\n",
        "SD(Y) = \\sqrt{\\frac{(400 - 364)^2 + (350 - 364)^2 + ... + (360 - 364)^2}{10 - 1}} = \\sqrt{\\frac{43540}{10 - 1}} \\approx 69.56\n",
        "$$"
      ],
      "metadata": {
        "id": "BjHrHUcRwaGF"
      }
    },
    {
      "cell_type": "code",
      "source": [
        "# Calculate the sample standard deviation (R uses n-1 by default)\n",
        "sd(data$EnergyConsumption)"
      ],
      "metadata": {
        "colab": {
          "base_uri": "https://localhost:8080/",
          "height": 32
        },
        "id": "JlkAD6yWwfW5",
        "outputId": "daac4064-3811-49e2-cf60-d507499e483a"
      },
      "execution_count": 4,
      "outputs": [
        {
          "output_type": "display_data",
          "data": {
            "text/html": [
              "69.4742158406028"
            ],
            "text/markdown": "69.4742158406028",
            "text/latex": "69.4742158406028",
            "text/plain": [
              "[1] 69.47422"
            ]
          },
          "metadata": {}
        }
      ]
    },
    {
      "cell_type": "markdown",
      "source": [
        "### Step 2: **Split the Data Based on Each Possible Split and Calculate the Standard Deviation for Each Group**\n",
        "\n",
        "We will now look at potential splits for **Temperature** and **Wind Speed for daily time series dataset**. For numerical variables, splits occur at the midpoints between consecutive values.\n",
        "\n",
        "#### **Possible Splits for Temperature (°C):**\n",
        "\n",
        "-   Split 1: **Temperature \\<= 16.5°C** (between 15 and 18)\n",
        "\n",
        "-   Split 2: **Temperature \\<= 23.5°C** (between 22 and 25)\n",
        "\n",
        "#### **Possible Splits for Wind Speed (km/h):**\n",
        "\n",
        "-   Split 1: **Wind Speed \\<= 6.5 km/h** (between 5 and 8)\n",
        "\n",
        "-   Split 2: **Wind Speed \\<= 13 km/h** (between 12 and 15)\n",
        "\n",
        "### Split on Temperature:\n",
        "\n",
        "#### Split 1: Temperature ≤ 16.5°C\n",
        "\n",
        "**Group 1 (≤ 16.5°C)**: [400, 450, 500] → Energy Consumption\n",
        "\n",
        "-   **Mean** $\\bar{Y}_1$:\n",
        "\n",
        "$$\n",
        "\\bar{Y}_1 = \\frac{400 + 450 + 500}{3} = 450\n",
        "$$\n",
        "\n",
        "-   **Sample Standard Deviation** $SD_1$:\n",
        "\n",
        "$$\n",
        "SD_1 = \\sqrt{\\frac{(400 - 450)^2 + (450 - 450)^2 + (500 - 450)^2}{3 - 1}} = \\sqrt{\\frac{2500 + 0 + 2500}{2}} = \\sqrt{\\frac{5000}{2}} = \\sqrt{2500} = 50\n",
        "$$\n",
        "\n",
        "------------------------------------------------------------------------\n",
        "\n",
        "**Group 2 (\\> 16.5°C)**: [350, 300, 320, 370, 280, 310, 360]\n",
        "\n",
        "-   **Mean** $\\bar{Y}_2$:\n",
        "\n",
        "$$\n",
        "\\bar{Y}_2 = \\frac{350 + 300 + 320 + 370 + 280 + 310 + 360}{7} = 327.14\n",
        "$$\n",
        "\n",
        "-   **Sample Standard Deviation** $SD_2$:\n",
        "\n",
        "$$\n",
        "SD_2 = \\sqrt{\\frac{(350 - 327.14)^2 + (300 - 327.14)^2 + (320 - 327.14)^2 + (370 - 327.14)^2 + (280 - 327.14)^2 + (310 - 327.14)^2 + (360 - 327.14)^2}{7 - 1}}\n",
        "$$\n",
        "\n",
        "$$\n",
        "SD_2 = \\sqrt{\\frac{522.22 + 736.57 + 50.98 + 1836.73 + 2221.57 + 293.73 + 1079.82}{6}} = \\sqrt{\\frac{6741.62}{6}} = \\sqrt{1123.60} \\approx 33.52\n",
        "$$\n",
        "\n",
        "------------------------------------------------------------------------"
      ],
      "metadata": {
        "id": "rDt9ccnOxE_2"
      }
    },
    {
      "cell_type": "code",
      "source": [
        "colnames(data)\n",
        "\n",
        "sd(data$EnergyConsumption[data$Temperature > 16.5])\n",
        "\n",
        "sd(data$EnergyConsumption[data$Temperature <= 16.5])"
      ],
      "metadata": {
        "colab": {
          "base_uri": "https://localhost:8080/",
          "height": 65
        },
        "id": "xtCuoLjvxN3s",
        "outputId": "0ffaea57-5cef-4d18-cc66-b98e5dc99e26"
      },
      "execution_count": 5,
      "outputs": [
        {
          "output_type": "display_data",
          "data": {
            "text/html": [
              "<style>\n",
              ".list-inline {list-style: none; margin:0; padding: 0}\n",
              ".list-inline>li {display: inline-block}\n",
              ".list-inline>li:not(:last-child)::after {content: \"\\00b7\"; padding: 0 .5ex}\n",
              "</style>\n",
              "<ol class=list-inline><li>'Day'</li><li>'Temperature'</li><li>'WindSpeed'</li><li>'EnergyConsumption'</li></ol>\n"
            ],
            "text/markdown": "1. 'Day'\n2. 'Temperature'\n3. 'WindSpeed'\n4. 'EnergyConsumption'\n\n\n",
            "text/latex": "\\begin{enumerate*}\n\\item 'Day'\n\\item 'Temperature'\n\\item 'WindSpeed'\n\\item 'EnergyConsumption'\n\\end{enumerate*}\n",
            "text/plain": [
              "[1] \"Day\"               \"Temperature\"       \"WindSpeed\"        \n",
              "[4] \"EnergyConsumption\""
            ]
          },
          "metadata": {}
        },
        {
          "output_type": "display_data",
          "data": {
            "text/html": [
              "33.523268393901"
            ],
            "text/markdown": "33.523268393901",
            "text/latex": "33.523268393901",
            "text/plain": [
              "[1] 33.52327"
            ]
          },
          "metadata": {}
        },
        {
          "output_type": "display_data",
          "data": {
            "text/html": [
              "50"
            ],
            "text/markdown": "50",
            "text/latex": "50",
            "text/plain": [
              "[1] 50"
            ]
          },
          "metadata": {}
        }
      ]
    },
    {
      "cell_type": "markdown",
      "source": [
        "### ***Exercise 2: Calculate the standard deviation for each group based on the possible split for Temperature ≤ 23.5***\n",
        "\n"
      ],
      "metadata": {
        "id": "IYj_qAMxy1eH"
      }
    },
    {
      "cell_type": "code",
      "source": [
        "sd(data$EnergyConsumption[data$Temperature > 23.5])\n",
        "sd(data$EnergyConsumption[data$Temperature <= 23.5])"
      ],
      "metadata": {
        "id": "Xivd_Nmup_Gs",
        "outputId": "96a48cdb-dda1-416a-da0d-0a1b25d40b86",
        "colab": {
          "base_uri": "https://localhost:8080/",
          "height": 49
        }
      },
      "execution_count": 6,
      "outputs": [
        {
          "output_type": "display_data",
          "data": {
            "text/html": [
              "17.0782512765993"
            ],
            "text/markdown": "17.0782512765993",
            "text/latex": "17.0782512765993",
            "text/plain": [
              "[1] 17.07825"
            ]
          },
          "metadata": {}
        },
        {
          "output_type": "display_data",
          "data": {
            "text/html": [
              "58.9067059000926"
            ],
            "text/markdown": "58.9067059000926",
            "text/latex": "58.9067059000926",
            "text/plain": [
              "[1] 58.90671"
            ]
          },
          "metadata": {}
        }
      ]
    },
    {
      "cell_type": "markdown",
      "source": [
        "\n",
        "### Split on Wind Speed:\n",
        "\n",
        "#### Split 3: Wind Speed ≤ 6.5 km/h\n",
        "\n",
        "**Group 1 (≤ 6.5 km/h)**: [300, 280, 310] → Energy Consumption\n",
        "\n",
        "-   **Mean** $\\bar{Y}_1$:\n",
        "\n",
        "$$\n",
        "\\bar{Y}_1 = \\frac{300 + 280 + 310}{3} = 296.67\n",
        "$$\n",
        "\n",
        "-   **Sample Standard Deviation** $SD_1$:\n",
        "\n",
        "$$\n",
        "SD_1 = \\sqrt{\\frac{(300 - 296.67)^2 + (280 - 296.67)^2 + (310 - 296.67)^2}{3 - 1}} \\approx 15.28\n",
        "$$\n",
        "\n",
        "------------------------------------------------------------------------\n",
        "\n",
        "**Group 2 (\\> 6.5 km/h)**: [400, 350, 450, 320, 370, 500, 360]\n",
        "\n",
        "-   **Mean** $\\bar{Y}_2$:\n",
        "\n",
        "$$\n",
        "\\bar{Y}_2 = \\frac{400 + 350 + 450 + 320 + 370 + 500 + 360}{7} = 392.86\n",
        "$$\n",
        "\n",
        "-   **Sample Standard Deviation** $SD_2$:\n",
        "\n",
        "$$\n",
        "SD_2 = \\sqrt{\\frac{(400 - 392.86)^2 + ... + (360 - 392.86)^2}{7 - 1}} \\approx 62.64\n",
        "$$\n"
      ],
      "metadata": {
        "id": "LaS6Mn28zBqO"
      }
    },
    {
      "cell_type": "code",
      "source": [
        "data$WindSpeed\n",
        "\n",
        "sd(data$EnergyConsumption[data$WindSpeed <= 6.5])\n",
        "sd(data$EnergyConsumption[data$WindSpeed > 6.5])"
      ],
      "metadata": {
        "colab": {
          "base_uri": "https://localhost:8080/",
          "height": 65
        },
        "id": "YB-9ALorzDsZ",
        "outputId": "f6f6d91b-83ef-4d58-f318-19ccd37f7788"
      },
      "execution_count": 7,
      "outputs": [
        {
          "output_type": "display_data",
          "data": {
            "text/html": [
              "<style>\n",
              ".list-inline {list-style: none; margin:0; padding: 0}\n",
              ".list-inline>li {display: inline-block}\n",
              ".list-inline>li:not(:last-child)::after {content: \"\\00b7\"; padding: 0 .5ex}\n",
              "</style>\n",
              "<ol class=list-inline><li>12</li><li>8</li><li>15</li><li>5</li><li>10</li><li>20</li><li>3</li><li>25</li><li>5</li><li>18</li></ol>\n"
            ],
            "text/markdown": "1. 12\n2. 8\n3. 15\n4. 5\n5. 10\n6. 20\n7. 3\n8. 25\n9. 5\n10. 18\n\n\n",
            "text/latex": "\\begin{enumerate*}\n\\item 12\n\\item 8\n\\item 15\n\\item 5\n\\item 10\n\\item 20\n\\item 3\n\\item 25\n\\item 5\n\\item 18\n\\end{enumerate*}\n",
            "text/plain": [
              " [1] 12  8 15  5 10 20  3 25  5 18"
            ]
          },
          "metadata": {}
        },
        {
          "output_type": "display_data",
          "data": {
            "text/html": [
              "15.2752523165195"
            ],
            "text/markdown": "15.2752523165195",
            "text/latex": "15.2752523165195",
            "text/plain": [
              "[1] 15.27525"
            ]
          },
          "metadata": {}
        },
        {
          "output_type": "display_data",
          "data": {
            "text/html": [
              "62.6403186758299"
            ],
            "text/markdown": "62.6403186758299",
            "text/latex": "62.6403186758299",
            "text/plain": [
              "[1] 62.64032"
            ]
          },
          "metadata": {}
        }
      ]
    },
    {
      "cell_type": "markdown",
      "source": [
        "### **Exercise 3: Calculate the standard deviation for each group based on the possible split for Wind Speed ≤ 13 km/h**"
      ],
      "metadata": {
        "id": "lUiKSn_kzMp0"
      }
    },
    {
      "cell_type": "code",
      "source": [
        "data$EnergyConsumption[data$WindSpeed <= 13]\n",
        "\n",
        "sd(data$EnergyConsumption[data$WindSpeed <= 13])\n",
        "sd(data$EnergyConsumption[data$WindSpeed > 13])"
      ],
      "metadata": {
        "id": "n1ANahBvqi3R",
        "outputId": "7a8b84b5-3ff4-425c-aea8-1c8ee4e85ecc",
        "colab": {
          "base_uri": "https://localhost:8080/",
          "height": 65
        }
      },
      "execution_count": 11,
      "outputs": [
        {
          "output_type": "display_data",
          "data": {
            "text/html": [
              "<style>\n",
              ".list-inline {list-style: none; margin:0; padding: 0}\n",
              ".list-inline>li {display: inline-block}\n",
              ".list-inline>li:not(:last-child)::after {content: \"\\00b7\"; padding: 0 .5ex}\n",
              "</style>\n",
              "<ol class=list-inline><li>400</li><li>350</li><li>300</li><li>320</li><li>280</li><li>310</li></ol>\n"
            ],
            "text/markdown": "1. 400\n2. 350\n3. 300\n4. 320\n5. 280\n6. 310\n\n\n",
            "text/latex": "\\begin{enumerate*}\n\\item 400\n\\item 350\n\\item 300\n\\item 320\n\\item 280\n\\item 310\n\\end{enumerate*}\n",
            "text/plain": [
              "[1] 400 350 300 320 280 310"
            ]
          },
          "metadata": {}
        },
        {
          "output_type": "display_data",
          "data": {
            "text/html": [
              "42.7395211328656"
            ],
            "text/markdown": "42.7395211328656",
            "text/latex": "42.7395211328656",
            "text/plain": [
              "[1] 42.73952"
            ]
          },
          "metadata": {}
        },
        {
          "output_type": "display_data",
          "data": {
            "text/html": [
              "66.8331255192114"
            ],
            "text/markdown": "66.8331255192114",
            "text/latex": "66.8331255192114",
            "text/plain": [
              "[1] 66.83313"
            ]
          },
          "metadata": {}
        }
      ]
    },
    {
      "cell_type": "code",
      "source": [],
      "metadata": {
        "colab": {
          "base_uri": "https://localhost:8080/",
          "height": 69
        },
        "id": "tkNdt1hWzN4v",
        "outputId": "abf101fa-1211-4f96-ec66-726b2a774c5e"
      },
      "execution_count": null,
      "outputs": [
        {
          "output_type": "display_data",
          "data": {
            "text/html": [
              "<style>\n",
              ".list-inline {list-style: none; margin:0; padding: 0}\n",
              ".list-inline>li {display: inline-block}\n",
              ".list-inline>li:not(:last-child)::after {content: \"\\00b7\"; padding: 0 .5ex}\n",
              "</style>\n",
              "<ol class=list-inline><li>400</li><li>350</li><li>300</li><li>320</li><li>280</li><li>310</li></ol>\n"
            ],
            "text/markdown": "1. 400\n2. 350\n3. 300\n4. 320\n5. 280\n6. 310\n\n\n",
            "text/latex": "\\begin{enumerate*}\n\\item 400\n\\item 350\n\\item 300\n\\item 320\n\\item 280\n\\item 310\n\\end{enumerate*}\n",
            "text/plain": [
              "[1] 400 350 300 320 280 310"
            ]
          },
          "metadata": {}
        },
        {
          "output_type": "display_data",
          "data": {
            "text/html": [
              "42.7395211328656"
            ],
            "text/markdown": "42.7395211328656",
            "text/latex": "42.7395211328656",
            "text/plain": [
              "[1] 42.73952"
            ]
          },
          "metadata": {}
        },
        {
          "output_type": "display_data",
          "data": {
            "text/html": [
              "66.8331255192114"
            ],
            "text/markdown": "66.8331255192114",
            "text/latex": "66.8331255192114",
            "text/plain": [
              "[1] 66.83313"
            ]
          },
          "metadata": {}
        }
      ]
    },
    {
      "cell_type": "markdown",
      "source": [
        "------------------------------------------------------------------------\n",
        "\n",
        "### Summary of Step 2:\n",
        "\n",
        "| Split Condition         | Count | Mean Energy Consumption | Standard Deviation |\n",
        "|---------------------|----------------|---------------------|----------------|\n",
        "| Temperature \\<= 16.5°C  | 3     | 450.00                  | 50.00              |\n",
        "| Temperature \\> 16.5°C   | 7     | 327.14                  | 33.52              |\n",
        "| Temperature \\<= 23.5°C  | 6     | 405.00                  | 58.91              |\n",
        "| Temperature \\> 23.5°C   | 4     | 302.50                  | 17.08              |\n",
        "| Wind Speed \\<= 6.5 km/h | 3     | 296.67                  | 15.28              |\n",
        "| Wind Speed \\> 6.5 km/h  | 7     | 392.86                  | 62.64              |\n",
        "| Wind Speed \\<= 13 km/h  | 6     | 358.33                  | 42.73              |\n",
        "| Wind Speed \\> 13 km/h   | 4     | 382.50                  | 66.83              |\n"
      ],
      "metadata": {
        "id": "eVxN0yZulbnE"
      }
    },
    {
      "cell_type": "markdown",
      "source": [
        "### Step 3: **Calculate the Standard Deviation Reduction (SDR) for Each Split**\n",
        "\n",
        "**SDR for Temperature \\<= 16.5°C:**\n",
        "\n",
        "$$\n",
        "SDR = 69.56 - \\left( \\frac{3}{10} \\cdot 50.00 + \\frac{7}{10} \\cdot 33.52 \\right)\n",
        "$$\n",
        "\n",
        "$$\n",
        "SDR = 69.56 - (15.00 + 23.46) = 69.56 - 38.46 = 31.01\n",
        "$$"
      ],
      "metadata": {
        "id": "fn1U1KIP0Mgl"
      }
    },
    {
      "cell_type": "markdown",
      "source": [
        "### **Exercise 4: Calculate the Standard Deviation Reduction (SDR) for the possible split at Temperature \\<= 23.5°C**\n",
        "\n",
        "\n",
        "![](https://raw.githubusercontent.com/HamidBekamiri/Econometrics-II/refs/heads/main/images/02_SML_DT_exercise4.png)"
      ],
      "metadata": {
        "id": "VKzUMmU-0SfY"
      }
    },
    {
      "cell_type": "code",
      "source": [
        "SDR = sd(data$EnergyConsumption) - (sd(data$EnergyConsumption[data$Temperature > 23.5])*4/10+sd(data$EnergyConsumption[data$Temperature <= 23.5])*6/10)\n",
        "SDR"
      ],
      "metadata": {
        "id": "5f8X1UMdrjNS",
        "outputId": "bb7f30a4-ded1-4788-907e-167ef4828966",
        "colab": {
          "base_uri": "https://localhost:8080/",
          "height": 32
        }
      },
      "execution_count": 13,
      "outputs": [
        {
          "output_type": "display_data",
          "data": {
            "text/html": [
              "27.2988917899075"
            ],
            "text/markdown": "27.2988917899075",
            "text/latex": "27.2988917899075",
            "text/plain": [
              "[1] 27.29889"
            ]
          },
          "metadata": {}
        }
      ]
    },
    {
      "cell_type": "markdown",
      "source": [
        "\n",
        "\n",
        "**SDR for Wind Speed \\<= 6.5 km/h:**\n",
        "\n",
        "$$\n",
        "SDR = 69.56 - \\left( \\frac{3}{10} \\cdot 15.28 + \\frac{7}{10} \\cdot 62.64 \\right)\n",
        "$$\n",
        "\n",
        "$$\n",
        "SDR = 69.56 - (4.58 + 43.85) = 69.56 - 48.43 = 21.04\n",
        "$$\n"
      ],
      "metadata": {
        "id": "7rzNR5X4ziJG"
      }
    },
    {
      "cell_type": "markdown",
      "source": [
        "***Exercise 5: Calculate the Standard Deviation Reduction (SDR) for the possible split at Wind Speed ≤ 13 km/h***\n",
        "\n",
        "![](https://raw.githubusercontent.com/HamidBekamiri/Econometrics-II/refs/heads/main/images/02_SML_DT_exercise5.png)"
      ],
      "metadata": {
        "id": "4mtjZhT4zopA"
      }
    },
    {
      "cell_type": "code",
      "source": [
        "sd(data$EnergyConsumption) - (sd(data$EnergyConsumption[data$WindSpeed <= 13])*6/10 + sd(data$EnergyConsumption[data$WindSpeed > 13]*4/10))"
      ],
      "metadata": {
        "id": "DAps7kf5wLHA",
        "outputId": "91c62c30-9255-4cc4-c910-0c14973f7758",
        "colab": {
          "base_uri": "https://localhost:8080/",
          "height": 32
        }
      },
      "execution_count": 14,
      "outputs": [
        {
          "output_type": "display_data",
          "data": {
            "text/html": [
              "17.0972529531989"
            ],
            "text/markdown": "17.0972529531989",
            "text/latex": "17.0972529531989",
            "text/plain": [
              "[1] 17.09725"
            ]
          },
          "metadata": {}
        }
      ]
    },
    {
      "cell_type": "markdown",
      "source": [
        "### Step 4: **Choose the Split with the Highest SDR**\n",
        "\n",
        "We now have the **Standard Deviation Reduction (SDR)** for all possible splits:\n",
        "\n",
        "-   **Temperature \\<= 16.5°C**: SDR = **31.01**\n",
        "\n",
        "-   **Temperature \\<= 23.5°C**: SDR =\n",
        "\n",
        "-   **Wind Speed \\<= 6.5 km/h**: SDR = **21.04**\n",
        "\n",
        "-   **Wind Speed \\<= 13 km/h**: SDR =\n",
        "\n",
        "#### **Best Split**:\n",
        "\n",
        "The split with the highest SDR is **Temperature \\<= 16.5°C**, with an SDR of **31.01**. Therefore, we will choose **Temperature** as the first feature to split the dataset.\n",
        "\n",
        "### Step 5: **Recursively Repeat Steps 2-4 for Each Branch**\n",
        "\n",
        "Let’s say we set the maximum depth of the decision tree (DT) to 1, so the condition has been met!\n",
        "\n",
        "## 4. Conclusion\n",
        "\n",
        "In this tutorial, we walked through how to construct a Decision Tree for regression using numerical data. The key steps include calculating the standard deviation of the target variable, splitting the data on different attributes, and using Standard Deviation Reduction (SDR) to select the best splits. By continuing this process recursively, we can create a decision tree that predicts numerical outcomes with high accuracy.\n"
      ],
      "metadata": {
        "id": "mSLDTSDqzvEZ"
      }
    }
  ]
}